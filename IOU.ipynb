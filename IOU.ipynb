{
  "cells": [
    {
      "cell_type": "markdown",
      "metadata": {
        "id": "view-in-github",
        "colab_type": "text"
      },
      "source": [
        "<a href=\"https://colab.research.google.com/github/yongminkim0501/Image_deep/blob/main/IOU.ipynb\" target=\"_parent\"><img src=\"https://colab.research.google.com/assets/colab-badge.svg\" alt=\"Open In Colab\"/></a>"
      ]
    },
    {
      "cell_type": "code",
      "execution_count": null,
      "metadata": {
        "colab": {
          "base_uri": "https://localhost:8080/"
        },
        "id": "XjftD-dElhzV",
        "outputId": "b0a9281d-f0e9-42f0-d9a3-16931e9893b3"
      },
      "outputs": [
        {
          "output_type": "stream",
          "name": "stdout",
          "text": [
            "Mounted at /content/drive\n"
          ]
        }
      ],
      "source": [
        "from google.colab import drive\n",
        "drive.mount('/content/drive')"
      ]
    },
    {
      "cell_type": "code",
      "execution_count": null,
      "metadata": {
        "colab": {
          "base_uri": "https://localhost:8080/"
        },
        "id": "P0roR92ymEQv",
        "outputId": "e6c9af78-7829-433d-be42-6ce0b9542a2d"
      },
      "outputs": [
        {
          "output_type": "stream",
          "name": "stdout",
          "text": [
            "/content/drive/MyDrive/data_ai/train_buildings_image\n"
          ]
        }
      ],
      "source": [
        "cd /content/drive/MyDrive/data_ai/train_buildings_image/"
      ]
    },
    {
      "cell_type": "code",
      "execution_count": null,
      "metadata": {
        "id": "8wDC4ZA_mLAJ"
      },
      "outputs": [],
      "source": [
        "dataset_path = \"/content/drive/MyDrive/data_ai/\"\n",
        "json_path = \"/content/drive/MyDrive/data_ai/train_buildings_labels\"\n",
        "original_path = \"/content/drive/MyDrive/data_ai/train_buildings_image\""
      ]
    },
    {
      "cell_type": "code",
      "execution_count": null,
      "metadata": {
        "id": "acZD3d_DmMoj"
      },
      "outputs": [],
      "source": [
        "import json\n",
        "from google.colab.patches import cv2_imshow\n",
        "import numpy as np\n",
        "import pandas as pd\n",
        "import cv2\n",
        "import json\n",
        "\n",
        "json_load1 = []\n",
        "img1 = []\n",
        "\n",
        "import os\n",
        "dataset_path = \"/content/drive/MyDrive/data_ai/\"\n",
        "png_list = os.listdir(json_path)\n",
        "\n",
        "for i in range (len(png_list)):\n",
        "  png_list[i] = png_list[i].split(\".\")\n",
        "\n",
        "png_t = []\n",
        "for i in range (len(png_list)):\n",
        "  if len(png_list[i]) == 2 and png_list[i][1] == 'json':\n",
        "    png_t.append(png_list[i][0])\n",
        "\n",
        "for item in png_t:\n",
        "  img = np.zeros((1024, 1024, 3), np.uint8)\n",
        "\n",
        "  with open(json_path+f\"/{item}.json\") as json_file:\n",
        "    json_load = json.load(json_file)\n",
        "    json.dumps(json_load, indent='\\t')\n",
        "  for number in range(len(json_load[\"features\"])):\n",
        "    vv = json_load[\"features\"][number][\"properties\"][\"building_imcoords\"]\n",
        "    a = vv.split(\", \")\n",
        "\n",
        "    pts = []\n",
        "    for i in range(0,int(len(a)/2)):\n",
        "      vvv = []\n",
        "      vvv.append(float(a[2*i]))\n",
        "      vvv.append(float(a[2*i+1]))\n",
        "      pts.append(vvv)\n",
        "\n",
        "    for i in range(0,int(len(a)/2)):\n",
        "      for j in range(2):\n",
        "        pts[i][j] = int(pts[i][j])\n",
        "    pts = np.array(pts)\n",
        "    img = cv2.fillPoly(img, [pts],(255,255,255))\n",
        "  cv2.imwrite(f'/content/drive/MyDrive/data_ai/json_images_building/{item}.png', img)"
      ]
    },
    {
      "cell_type": "code",
      "source": [
        "import copy\n",
        "import json\n",
        "from google.colab.patches import cv2_imshow\n",
        "import numpy as np\n",
        "import pandas as pd\n",
        "import cv2\n",
        "import json\n",
        "\n",
        "json_load1 = []\n",
        "img1 = []\n",
        "\n",
        "import os\n",
        "dataset_path = \"/content/drive/MyDrive/data_ai/\"\n",
        "png_list = os.listdir(json_path)\n",
        "\n",
        "for i in range (len(png_list)):\n",
        "  png_list[i] = png_list[i].split(\".\")\n",
        "\n",
        "png_t = []\n",
        "for i in range (len(png_list)):\n",
        "  if len(png_list[i]) == 2 and png_list[i][1] == 'json':\n",
        "    png_t.append(png_list[i][0])\n",
        "\n",
        "k = copy.deepcopy(png_t[:2000])\n",
        "png_t = None"
      ],
      "metadata": {
        "id": "4K1ez8gXOhqb"
      },
      "execution_count": null,
      "outputs": []
    },
    {
      "cell_type": "code",
      "execution_count": null,
      "metadata": {
        "id": "Q_oJ2Bo4mwM5"
      },
      "outputs": [],
      "source": [
        "import matplotlib.pyplot as plt\n",
        "import cv2\n",
        "label_image_black_white = []\n",
        "label_origin_image = []\n",
        "\n",
        "for name in k:\n",
        "\n",
        "  img = cv2.imread(f\"/content/drive/MyDrive/data_ai/json_images_building/{name}.png\", cv2.IMREAD_GRAYSCALE)\n",
        "\n",
        "  lab = cv2.imread(f\"/content/drive/MyDrive/data_ai/train_buildings_image/{name}.png\")\n",
        "\n",
        "  if np.array(img).shape[0] != 1024 or np.array(lab).shape[0] != 1024:\n",
        "    continue\n",
        "\n",
        "  img = cv2.resize(img, (128, 128))\n",
        "  lab = cv2.resize(lab, (128, 128))\n",
        "  label_image_black_white.append(img)\n",
        "  label_origin_image.append(lab)"
      ]
    },
    {
      "cell_type": "code",
      "execution_count": null,
      "metadata": {
        "id": "bXxv0HcEm0TZ"
      },
      "outputs": [],
      "source": [
        "x_test = []\n",
        "x_train = []\n",
        "\n",
        "y_test = []\n",
        "y_train = []\n",
        "import os\n",
        "dataset_path = \"/content/drive/MyDrive/data_ai/\"\n",
        "# png_list = os.listdir(\"/content/drive/MyDrive/data_ai/train_buildings_labels/\")\n",
        "# for i in range (len(png_list)):\n",
        "#   png_list[i] = png_list[i].split(\".\")\n",
        "# png_t = []\n",
        "# for i in range (len(png_list)):\n",
        "#   if len(png_list[i]) == 2 and png_list[i][1] == 'json':\n",
        "#     png_t.append(png_list[i][0])\n",
        "\n",
        "for i in range(0, round(len(k)*0.8)):\n",
        "  x_train.append(label_origin_image[i])\n",
        "  y_train.append(label_image_black_white[i])\n",
        "\n",
        "for i in range(round(len(k)*0.8), len(k)):\n",
        "  x_test.append(label_origin_image[i])\n",
        "  y_test.append(label_image_black_white[i])"
      ]
    },
    {
      "cell_type": "code",
      "execution_count": null,
      "metadata": {
        "id": "GJEmHEhem1SM"
      },
      "outputs": [],
      "source": [
        "from tensorflow.keras.layers import Conv2D, BatchNormalization, Activation, MaxPool2D, Conv2DTranspose, Concatenate, Input, Dropout, Add, Multiply\n",
        "from tensorflow.keras.models import Model\n",
        "from tensorflow.keras.regularizers import L2\n",
        "def attention_gate(input_signal, gating_signal, num_filters):\n",
        "    # gating_signal을 input_signal과 같은 크기로 조정\n",
        "    gating_signal = Conv2DTranspose(num_filters, (2, 2), strides=2, padding='same')(gating_signal)\n",
        "\n",
        "    # 1x1 convolution\n",
        "    input_signal = Conv2D(num_filters, 1, padding='same')(input_signal)\n",
        "    gating_signal = Conv2D(num_filters, 1, padding='same')(gating_signal)\n",
        "\n",
        "    # 신호 결합\n",
        "    added = Add()([input_signal, gating_signal])\n",
        "\n",
        "    # 활성화\n",
        "    activated = Activation('relu')(added)\n",
        "\n",
        "    # attention 계수 계산\n",
        "    attention = Conv2D(1, 1, padding='same')(activated)\n",
        "    attention = Activation('sigmoid')(attention)\n",
        "\n",
        "    # attention 적용\n",
        "    return Multiply()([input_signal, attention])\n",
        "\n",
        "def conv_block(input, num_filters):\n",
        "    x = Conv2D(num_filters, 3, padding=\"same\")(input)\n",
        "    x = BatchNormalization()(x)\n",
        "    x = Activation(\"relu\")(x)\n",
        "    x = Dropout(0.3)(x)\n",
        "\n",
        "    x = Conv2D(num_filters, 3, padding=\"same\")(input)\n",
        "    x = BatchNormalization()(x)\n",
        "    x = Activation(\"relu\")(x)\n",
        "    x = Dropout(0.3)(x)\n",
        "\n",
        "    return x\n",
        "\n",
        "def encoder_block(input, num_filters):\n",
        "    x = conv_block(input, num_filters)\n",
        "    p = MaxPool2D((2, 2))(x)\n",
        "    return x, p\n",
        "\n",
        "def decoder_block(input, skip_features, num_filters):\n",
        "    x = Conv2DTranspose(num_filters, (2, 2), strides=2, padding=\"same\")(input)\n",
        "    attended_skip = attention_gate(skip_features, input, num_filters)\n",
        "    # x = Concatenate()([x, skip_features])\n",
        "    x = Concatenate()([x, attended_skip])\n",
        "    x = conv_block(x, num_filters)\n",
        "    return x\n",
        "\n",
        "def build_unet(input_shape):\n",
        "    size = 16     # ORiginal: 16\n",
        "    inputs = Input(input_shape)\n",
        "\n",
        "    s1, p1 = encoder_block(inputs, size * 4)\n",
        "    s2, p2 = encoder_block(p1, size * 8)\n",
        "    s3, p3 = encoder_block(p2, size * 16)\n",
        "    s4, p4 = encoder_block(p3, size * 32)\n",
        "\n",
        "    b1 = conv_block(p4, size * 64)    # Original is 1024\n",
        "\n",
        "    d1 = decoder_block(b1, s4, size * 32)\n",
        "    d2 = decoder_block(d1, s3, size * 16)\n",
        "    d3 = decoder_block(d2, s2, size * 8)\n",
        "    d4 = decoder_block(d3, s1, size * 4)\n",
        "\n",
        "    outputs = Conv2D(1, 1, padding=\"same\", activation=\"sigmoid\")(d4)\n",
        "\n",
        "    model = Model(inputs, outputs, name=\"U-Net\")\n",
        "    return model"
      ]
    },
    {
      "cell_type": "code",
      "execution_count": null,
      "metadata": {
        "id": "zfc9ZHGi3Wkw",
        "colab": {
          "base_uri": "https://localhost:8080/",
          "height": 127
        },
        "outputId": "a50479b1-f8a0-4a73-92c1-7174e153f44d"
      },
      "outputs": [
        {
          "output_type": "execute_result",
          "data": {
            "text/plain": [
              "\"\\ntf.keras.layers.BatchNormalization(\\n    axis=-1, : 정규화할 축을 지정, -1은 마지막 축 (채널)을 의미. channels_last 포맷에서는 -1이 적절\\n    momentum=0.99, : 이동 평균을 계산할 때 사용되는 모멘텀. 0~1사이 값, 큰 값: 이전 통계를 더 많이 반영,\\n                      작은 값 : 새로운 배치 통계를 더 많이 반영\\n    epsilon=0.001, : 분모가 0이 되는 것을 방지하기 위한 작은 상수, 수치적 안정성을 위해 사용\\n    center=True,: beta 오프셋 사용 여부, True면 평균을 이동 시킴, false 면 스케일이 1로 고정\\n    scale=True, : gamma 스케일링 사용 여부, True면 스케일 조정 가능, false 면 스케일이 1로 고정\\n    beta_initializer='zeros', : beta 벡터의 초기화 방법\\n    gamma_initializer='ones', : gamma 벡터의 초기화 방법\\n    moving_mean_initializer='zeros', : 이동 평균의 초기화 방법\\n    moving_variance_initializer='ones', : 이동 분산의 초기화 방법\\n    beta_regularizer=None, : beta 파라미터에 대한 정규화 함수\\n    gamma_regularizer=None, : gamma 파라미터에 대한 정규화 함수\\n    beta_constraint=None, : beta 파라미터에 대한 제약\\n    gamma_constraint=None, : gamma 파라미터에 대한 제약\\n    synchronized=False, : 분산 학습에 배치 정규화를 동기화 할 지 여부 / 여러 gpu 사용시 관\\n    **kwargs\\n)\\nintersection over union\\n\\n\""
            ],
            "application/vnd.google.colaboratory.intrinsic+json": {
              "type": "string"
            }
          },
          "metadata": {},
          "execution_count": 29
        }
      ],
      "source": [
        "'''\n",
        "tf.keras.layers.Conv2D(\n",
        "    filters, : 출력 채널의 수, filters = 32 이면, 32개의 특성 맵 생성\n",
        "    kernel_size, : 컨볼루션 윈도의 크기, kernel size=3 : 3x3 필터\n",
        "    strides=(1, 1), : 필터가 이동하는 간격\n",
        "    padding='valid', : valid - 패딩 없음, same : 출력 크기와 입력 크기 동일하도록 패딩\n",
        "    data_format=None, :\n",
        "    dilation_rate=(1, 1), : 팽창된 컨볼루션을 위한 팽창률, (1,1) - 일반 컨볼루션, (2,2) - 필터 원소 사이에 공간 추가\n",
        "    groups=1, : 입력과 출력 채널을 그룹으로 나누는 수, 1은 일반적인 컨볼루션, groups > 1 은 채널 그룹 분리\n",
        "    activation=None, : 활성화 함수, relu, sigmoid 등, none : 선형 활성화\n",
        "    use_bias=True, : 편향 벡터의 사용 여부\n",
        "    kernel_initializer='glorot_uniform', : 커널 가중치 초기화 방법\n",
        "    bias_initializer='zeros', : 편향 가중치 초기화 방법, zeros, ones\n",
        "    kernel_regularizer=None, : 커널 가중치에 대한 정규화 함수, l1, l2\n",
        "    bias_regularizer=None, : 편향에 대한 정규화 함수\n",
        "    activity_regularizer=None, : 출력에 대한 정규화 함수\n",
        "    kernel_constraint=None, : 커널 가중치에 대한 제약, max_norm 등\n",
        "    bias_constraint=None, : 편향에 대한 제약\n",
        "    **kwargs\n",
        ")\n",
        "'''\n",
        "'''\n",
        "tf.keras.layers.BatchNormalization(\n",
        "    axis=-1, : 정규화할 축을 지정, -1은 마지막 축 (채널)을 의미. channels_last 포맷에서는 -1이 적절\n",
        "    momentum=0.99, : 이동 평균을 계산할 때 사용되는 모멘텀. 0~1사이 값, 큰 값: 이전 통계를 더 많이 반영,\n",
        "                      작은 값 : 새로운 배치 통계를 더 많이 반영\n",
        "    epsilon=0.001, : 분모가 0이 되는 것을 방지하기 위한 작은 상수, 수치적 안정성을 위해 사용\n",
        "    center=True,: beta 오프셋 사용 여부, True면 평균을 이동 시킴, false 면 스케일이 1로 고정\n",
        "    scale=True, : gamma 스케일링 사용 여부, True면 스케일 조정 가능, false 면 스케일이 1로 고정\n",
        "    beta_initializer='zeros', : beta 벡터의 초기화 방법\n",
        "    gamma_initializer='ones', : gamma 벡터의 초기화 방법\n",
        "    moving_mean_initializer='zeros', : 이동 평균의 초기화 방법\n",
        "    moving_variance_initializer='ones', : 이동 분산의 초기화 방법\n",
        "    beta_regularizer=None, : beta 파라미터에 대한 정규화 함수\n",
        "    gamma_regularizer=None, : gamma 파라미터에 대한 정규화 함수\n",
        "    beta_constraint=None, : beta 파라미터에 대한 제약\n",
        "    gamma_constraint=None, : gamma 파라미터에 대한 제약\n",
        "    synchronized=False, : 분산 학습에 배치 정규화를 동기화 할 지 여부 / 여러 gpu 사용시 관\n",
        "    **kwargs\n",
        ")\n",
        "intersection over union\n",
        "\n",
        "'''"
      ]
    },
    {
      "cell_type": "code",
      "execution_count": null,
      "metadata": {
        "id": "1aIeO4ZMm2Ip"
      },
      "outputs": [],
      "source": [
        "import tensorflow as tf\n",
        "from tensorflow.keras.optimizers import Adam\n",
        "x_train = np.array(x_train)\n",
        "y_train = np.array(y_train)\n",
        "x_train = x_train.astype(np.float32)\n",
        "x_train /= 255.0\n",
        "y_train = y_train.astype(np.float32)\n",
        "y_train /= 255.0\n",
        "x_test = np.array(x_test)\n",
        "y_test = np.array(y_test)\n",
        "x_test = x_test.astype(np.float32)\n",
        "x_test /= 255.0\n",
        "y_test = y_test.astype(np.float32)\n",
        "y_test /= 255.0"
      ]
    },
    {
      "cell_type": "code",
      "source": [
        "# from tensorflow.keras.layers import Conv2D, Input\n",
        "# from tensorflow.keras.models import Model\n",
        "\n",
        "# def build_simple_model(input_shape=(256, 256, 3)):\n",
        "#     # Input layer\n",
        "#     inputs = Input(shape=input_shape)  # (batch_size, 256, 256, 3)\n",
        "\n",
        "#     # Single conv layer to change only the number of channels (3 -> 1)\n",
        "#     # Kernel size = 1 means it only changes channels, preserves spatial dimensions\n",
        "#     outputs = Conv2D(\n",
        "#         filters=1,                     # Output channels = 1\n",
        "#         kernel_size=1,                 # 1x1 convolution\n",
        "#         padding='same',                # Preserve spatial dimensions\n",
        "#         activation='sigmoid'           # For binary output\n",
        "#     )(inputs)                         # (batch_size, 256, 256, 1)\n",
        "\n",
        "#     # Create model\n",
        "#     model = Model(inputs=inputs, outputs=outputs, name=\"Simple-Shape-Model\")\n",
        "#     return model"
      ],
      "metadata": {
        "id": "n5iPCrtqTQjq"
      },
      "execution_count": null,
      "outputs": []
    },
    {
      "cell_type": "code",
      "execution_count": null,
      "metadata": {
        "colab": {
          "base_uri": "https://localhost:8080/",
          "height": 1000
        },
        "id": "JDQDaqovpd-5",
        "outputId": "323e9bf1-7b82-42d9-9c72-a4150bc0f7e4"
      },
      "outputs": [
        {
          "output_type": "stream",
          "name": "stdout",
          "text": [
            "Epoch 1/100\n",
            "\u001b[1m31/31\u001b[0m \u001b[32m━━━━━━━━━━━━━━━━━━━━\u001b[0m\u001b[37m\u001b[0m \u001b[1m107s\u001b[0m 3s/step - accuracy: 0.6938 - loss: 0.8438 - val_accuracy: 0.7622 - val_loss: 3.6875\n",
            "Epoch 2/100\n",
            "\u001b[1m31/31\u001b[0m \u001b[32m━━━━━━━━━━━━━━━━━━━━\u001b[0m\u001b[37m\u001b[0m \u001b[1m58s\u001b[0m 406ms/step - accuracy: 0.8273 - loss: 0.4164 - val_accuracy: 0.7622 - val_loss: 3.0242\n",
            "Epoch 3/100\n",
            "\u001b[1m31/31\u001b[0m \u001b[32m━━━━━━━━━━━━━━━━━━━━\u001b[0m\u001b[37m\u001b[0m \u001b[1m14s\u001b[0m 463ms/step - accuracy: 0.8215 - loss: 0.4038 - val_accuracy: 0.7622 - val_loss: 0.6292\n",
            "Epoch 4/100\n",
            "\u001b[1m31/31\u001b[0m \u001b[32m━━━━━━━━━━━━━━━━━━━━\u001b[0m\u001b[37m\u001b[0m \u001b[1m18s\u001b[0m 391ms/step - accuracy: 0.8172 - loss: 0.3968 - val_accuracy: 0.7622 - val_loss: 0.5695\n",
            "Epoch 5/100\n",
            "\u001b[1m31/31\u001b[0m \u001b[32m━━━━━━━━━━━━━━━━━━━━\u001b[0m\u001b[37m\u001b[0m \u001b[1m20s\u001b[0m 381ms/step - accuracy: 0.8237 - loss: 0.3753 - val_accuracy: 0.7622 - val_loss: 0.5330\n",
            "Epoch 6/100\n",
            "\u001b[1m31/31\u001b[0m \u001b[32m━━━━━━━━━━━━━━━━━━━━\u001b[0m\u001b[37m\u001b[0m \u001b[1m21s\u001b[0m 399ms/step - accuracy: 0.8245 - loss: 0.3717 - val_accuracy: 0.7622 - val_loss: 0.6214\n",
            "Epoch 7/100\n",
            "\u001b[1m31/31\u001b[0m \u001b[32m━━━━━━━━━━━━━━━━━━━━\u001b[0m\u001b[37m\u001b[0m \u001b[1m14s\u001b[0m 439ms/step - accuracy: 0.8275 - loss: 0.3581 - val_accuracy: 0.7622 - val_loss: 1.3657\n",
            "Epoch 8/100\n",
            "\u001b[1m31/31\u001b[0m \u001b[32m━━━━━━━━━━━━━━━━━━━━\u001b[0m\u001b[37m\u001b[0m \u001b[1m19s\u001b[0m 382ms/step - accuracy: 0.8312 - loss: 0.3524 - val_accuracy: 0.7633 - val_loss: 0.5922\n",
            "Epoch 9/100\n",
            "\u001b[1m31/31\u001b[0m \u001b[32m━━━━━━━━━━━━━━━━━━━━\u001b[0m\u001b[37m\u001b[0m \u001b[1m20s\u001b[0m 381ms/step - accuracy: 0.8305 - loss: 0.3498 - val_accuracy: 0.7653 - val_loss: 0.5325\n",
            "Epoch 10/100\n",
            "\u001b[1m31/31\u001b[0m \u001b[32m━━━━━━━━━━━━━━━━━━━━\u001b[0m\u001b[37m\u001b[0m \u001b[1m21s\u001b[0m 403ms/step - accuracy: 0.8429 - loss: 0.3253 - val_accuracy: 0.7679 - val_loss: 0.4695\n",
            "Epoch 11/100\n",
            "\u001b[1m31/31\u001b[0m \u001b[32m━━━━━━━━━━━━━━━━━━━━\u001b[0m\u001b[37m\u001b[0m \u001b[1m21s\u001b[0m 411ms/step - accuracy: 0.8468 - loss: 0.3287 - val_accuracy: 0.7662 - val_loss: 0.5036\n",
            "Epoch 12/100\n",
            "\u001b[1m31/31\u001b[0m \u001b[32m━━━━━━━━━━━━━━━━━━━━\u001b[0m\u001b[37m\u001b[0m \u001b[1m20s\u001b[0m 396ms/step - accuracy: 0.8428 - loss: 0.3330 - val_accuracy: 0.7843 - val_loss: 0.4241\n",
            "Epoch 13/100\n",
            "\u001b[1m31/31\u001b[0m \u001b[32m━━━━━━━━━━━━━━━━━━━━\u001b[0m\u001b[37m\u001b[0m \u001b[1m21s\u001b[0m 400ms/step - accuracy: 0.8520 - loss: 0.3137 - val_accuracy: 0.7628 - val_loss: 0.4807\n",
            "Epoch 14/100\n",
            "\u001b[1m31/31\u001b[0m \u001b[32m━━━━━━━━━━━━━━━━━━━━\u001b[0m\u001b[37m\u001b[0m \u001b[1m13s\u001b[0m 408ms/step - accuracy: 0.8429 - loss: 0.3333 - val_accuracy: 0.7673 - val_loss: 0.5071\n",
            "Epoch 15/100\n",
            "\u001b[1m31/31\u001b[0m \u001b[32m━━━━━━━━━━━━━━━━━━━━\u001b[0m\u001b[37m\u001b[0m \u001b[1m20s\u001b[0m 388ms/step - accuracy: 0.8496 - loss: 0.3167 - val_accuracy: 0.7633 - val_loss: 0.4759\n",
            "Epoch 16/100\n",
            "\u001b[1m31/31\u001b[0m \u001b[32m━━━━━━━━━━━━━━━━━━━━\u001b[0m\u001b[37m\u001b[0m \u001b[1m21s\u001b[0m 396ms/step - accuracy: 0.8514 - loss: 0.3152 - val_accuracy: 0.8286 - val_loss: 0.3706\n",
            "Epoch 17/100\n",
            "\u001b[1m31/31\u001b[0m \u001b[32m━━━━━━━━━━━━━━━━━━━━\u001b[0m\u001b[37m\u001b[0m \u001b[1m13s\u001b[0m 412ms/step - accuracy: 0.8502 - loss: 0.3124 - val_accuracy: 0.7915 - val_loss: 0.4143\n",
            "Epoch 18/100\n",
            "\u001b[1m31/31\u001b[0m \u001b[32m━━━━━━━━━━━━━━━━━━━━\u001b[0m\u001b[37m\u001b[0m \u001b[1m20s\u001b[0m 398ms/step - accuracy: 0.8548 - loss: 0.3056 - val_accuracy: 0.7634 - val_loss: 0.4900\n",
            "Epoch 19/100\n",
            "\u001b[1m31/31\u001b[0m \u001b[32m━━━━━━━━━━━━━━━━━━━━\u001b[0m\u001b[37m\u001b[0m \u001b[1m21s\u001b[0m 404ms/step - accuracy: 0.8582 - loss: 0.2991 - val_accuracy: 0.8002 - val_loss: 0.3947\n",
            "Epoch 20/100\n",
            "\u001b[1m31/31\u001b[0m \u001b[32m━━━━━━━━━━━━━━━━━━━━\u001b[0m\u001b[37m\u001b[0m \u001b[1m20s\u001b[0m 399ms/step - accuracy: 0.8598 - loss: 0.2948 - val_accuracy: 0.7645 - val_loss: 0.6223\n",
            "Epoch 21/100\n",
            "\u001b[1m31/31\u001b[0m \u001b[32m━━━━━━━━━━━━━━━━━━━━\u001b[0m\u001b[37m\u001b[0m \u001b[1m13s\u001b[0m 410ms/step - accuracy: 0.8590 - loss: 0.2939 - val_accuracy: 0.7737 - val_loss: 0.4329\n",
            "Epoch 22/100\n",
            "\u001b[1m31/31\u001b[0m \u001b[32m━━━━━━━━━━━━━━━━━━━━\u001b[0m\u001b[37m\u001b[0m \u001b[1m20s\u001b[0m 394ms/step - accuracy: 0.8522 - loss: 0.3067 - val_accuracy: 0.8213 - val_loss: 0.3764\n",
            "Epoch 23/100\n",
            "\u001b[1m31/31\u001b[0m \u001b[32m━━━━━━━━━━━━━━━━━━━━\u001b[0m\u001b[37m\u001b[0m \u001b[1m21s\u001b[0m 401ms/step - accuracy: 0.8585 - loss: 0.2980 - val_accuracy: 0.7843 - val_loss: 0.4179\n",
            "Epoch 24/100\n",
            "\u001b[1m31/31\u001b[0m \u001b[32m━━━━━━━━━━━━━━━━━━━━\u001b[0m\u001b[37m\u001b[0m \u001b[1m13s\u001b[0m 410ms/step - accuracy: 0.8651 - loss: 0.2828 - val_accuracy: 0.7699 - val_loss: 0.6044\n",
            "Epoch 25/100\n",
            "\u001b[1m31/31\u001b[0m \u001b[32m━━━━━━━━━━━━━━━━━━━━\u001b[0m\u001b[37m\u001b[0m \u001b[1m20s\u001b[0m 394ms/step - accuracy: 0.8674 - loss: 0.2833 - val_accuracy: 0.8293 - val_loss: 0.3521\n",
            "Epoch 26/100\n",
            "\u001b[1m31/31\u001b[0m \u001b[32m━━━━━━━━━━━━━━━━━━━━\u001b[0m\u001b[37m\u001b[0m \u001b[1m12s\u001b[0m 403ms/step - accuracy: 0.8648 - loss: 0.2839 - val_accuracy: 0.8193 - val_loss: 0.3662\n",
            "Epoch 27/100\n",
            "\u001b[1m31/31\u001b[0m \u001b[32m━━━━━━━━━━━━━━━━━━━━\u001b[0m\u001b[37m\u001b[0m \u001b[1m20s\u001b[0m 386ms/step - accuracy: 0.8661 - loss: 0.2802 - val_accuracy: 0.8186 - val_loss: 0.3677\n",
            "Epoch 28/100\n",
            "\u001b[1m31/31\u001b[0m \u001b[32m━━━━━━━━━━━━━━━━━━━━\u001b[0m\u001b[37m\u001b[0m \u001b[1m21s\u001b[0m 400ms/step - accuracy: 0.8734 - loss: 0.2671 - val_accuracy: 0.7900 - val_loss: 0.4101\n",
            "Epoch 29/100\n",
            "\u001b[1m31/31\u001b[0m \u001b[32m━━━━━━━━━━━━━━━━━━━━\u001b[0m\u001b[37m\u001b[0m \u001b[1m20s\u001b[0m 397ms/step - accuracy: 0.8755 - loss: 0.2617 - val_accuracy: 0.8236 - val_loss: 0.4214\n",
            "Epoch 30/100\n",
            "\u001b[1m31/31\u001b[0m \u001b[32m━━━━━━━━━━━━━━━━━━━━\u001b[0m\u001b[37m\u001b[0m \u001b[1m12s\u001b[0m 400ms/step - accuracy: 0.8666 - loss: 0.2777 - val_accuracy: 0.8013 - val_loss: 0.4479\n",
            "Epoch 31/100\n",
            "\u001b[1m31/31\u001b[0m \u001b[32m━━━━━━━━━━━━━━━━━━━━\u001b[0m\u001b[37m\u001b[0m \u001b[1m20s\u001b[0m 394ms/step - accuracy: 0.8755 - loss: 0.2627 - val_accuracy: 0.8238 - val_loss: 0.3664\n",
            "Epoch 32/100\n"
          ]
        },
        {
          "output_type": "error",
          "ename": "KeyboardInterrupt",
          "evalue": "",
          "traceback": [
            "\u001b[0;31m---------------------------------------------------------------------------\u001b[0m",
            "\u001b[0;31mKeyboardInterrupt\u001b[0m                         Traceback (most recent call last)",
            "\u001b[0;32m<ipython-input-51-c0c99914e0dc>\u001b[0m in \u001b[0;36m<cell line: 10>\u001b[0;34m()\u001b[0m\n\u001b[1;32m      8\u001b[0m           \u001b[0mloss\u001b[0m\u001b[0;34m=\u001b[0m\u001b[0mtf\u001b[0m\u001b[0;34m.\u001b[0m\u001b[0mlosses\u001b[0m\u001b[0;34m.\u001b[0m\u001b[0mBinaryCrossentropy\u001b[0m\u001b[0;34m(\u001b[0m\u001b[0;34m)\u001b[0m\u001b[0;34m,\u001b[0m\u001b[0;34m\u001b[0m\u001b[0;34m\u001b[0m\u001b[0m\n\u001b[1;32m      9\u001b[0m           metrics=['accuracy'])\n\u001b[0;32m---> 10\u001b[0;31m \u001b[0mhistory\u001b[0m \u001b[0;34m=\u001b[0m \u001b[0mmodel\u001b[0m\u001b[0;34m.\u001b[0m\u001b[0mfit\u001b[0m\u001b[0;34m(\u001b[0m\u001b[0mx_train\u001b[0m\u001b[0;34m,\u001b[0m \u001b[0my_train\u001b[0m\u001b[0;34m,\u001b[0m \u001b[0mvalidation_data\u001b[0m\u001b[0;34m=\u001b[0m\u001b[0;34m(\u001b[0m\u001b[0mx_test\u001b[0m\u001b[0;34m,\u001b[0m \u001b[0my_test\u001b[0m\u001b[0;34m)\u001b[0m\u001b[0;34m,\u001b[0m\u001b[0mepochs\u001b[0m\u001b[0;34m=\u001b[0m\u001b[0;36m100\u001b[0m\u001b[0;34m)\u001b[0m\u001b[0;34m\u001b[0m\u001b[0;34m\u001b[0m\u001b[0m\n\u001b[0m",
            "\u001b[0;32m/usr/local/lib/python3.10/dist-packages/keras/src/utils/traceback_utils.py\u001b[0m in \u001b[0;36merror_handler\u001b[0;34m(*args, **kwargs)\u001b[0m\n\u001b[1;32m    115\u001b[0m         \u001b[0mfiltered_tb\u001b[0m \u001b[0;34m=\u001b[0m \u001b[0;32mNone\u001b[0m\u001b[0;34m\u001b[0m\u001b[0;34m\u001b[0m\u001b[0m\n\u001b[1;32m    116\u001b[0m         \u001b[0;32mtry\u001b[0m\u001b[0;34m:\u001b[0m\u001b[0;34m\u001b[0m\u001b[0;34m\u001b[0m\u001b[0m\n\u001b[0;32m--> 117\u001b[0;31m             \u001b[0;32mreturn\u001b[0m \u001b[0mfn\u001b[0m\u001b[0;34m(\u001b[0m\u001b[0;34m*\u001b[0m\u001b[0margs\u001b[0m\u001b[0;34m,\u001b[0m \u001b[0;34m**\u001b[0m\u001b[0mkwargs\u001b[0m\u001b[0;34m)\u001b[0m\u001b[0;34m\u001b[0m\u001b[0;34m\u001b[0m\u001b[0m\n\u001b[0m\u001b[1;32m    118\u001b[0m         \u001b[0;32mexcept\u001b[0m \u001b[0mException\u001b[0m \u001b[0;32mas\u001b[0m \u001b[0me\u001b[0m\u001b[0;34m:\u001b[0m\u001b[0;34m\u001b[0m\u001b[0;34m\u001b[0m\u001b[0m\n\u001b[1;32m    119\u001b[0m             \u001b[0mfiltered_tb\u001b[0m \u001b[0;34m=\u001b[0m \u001b[0m_process_traceback_frames\u001b[0m\u001b[0;34m(\u001b[0m\u001b[0me\u001b[0m\u001b[0;34m.\u001b[0m\u001b[0m__traceback__\u001b[0m\u001b[0;34m)\u001b[0m\u001b[0;34m\u001b[0m\u001b[0;34m\u001b[0m\u001b[0m\n",
            "\u001b[0;32m/usr/local/lib/python3.10/dist-packages/keras/src/backend/tensorflow/trainer.py\u001b[0m in \u001b[0;36mfit\u001b[0;34m(self, x, y, batch_size, epochs, verbose, callbacks, validation_split, validation_data, shuffle, class_weight, sample_weight, initial_epoch, steps_per_epoch, validation_steps, validation_batch_size, validation_freq)\u001b[0m\n\u001b[1;32m    317\u001b[0m             \u001b[0;32mwith\u001b[0m \u001b[0mepoch_iterator\u001b[0m\u001b[0;34m.\u001b[0m\u001b[0mcatch_stop_iteration\u001b[0m\u001b[0;34m(\u001b[0m\u001b[0;34m)\u001b[0m\u001b[0;34m:\u001b[0m\u001b[0;34m\u001b[0m\u001b[0;34m\u001b[0m\u001b[0m\n\u001b[1;32m    318\u001b[0m                 \u001b[0;32mfor\u001b[0m \u001b[0mstep\u001b[0m\u001b[0;34m,\u001b[0m \u001b[0miterator\u001b[0m \u001b[0;32min\u001b[0m \u001b[0mepoch_iterator\u001b[0m\u001b[0;34m.\u001b[0m\u001b[0menumerate_epoch\u001b[0m\u001b[0;34m(\u001b[0m\u001b[0;34m)\u001b[0m\u001b[0;34m:\u001b[0m\u001b[0;34m\u001b[0m\u001b[0;34m\u001b[0m\u001b[0m\n\u001b[0;32m--> 319\u001b[0;31m                     \u001b[0mcallbacks\u001b[0m\u001b[0;34m.\u001b[0m\u001b[0mon_train_batch_begin\u001b[0m\u001b[0;34m(\u001b[0m\u001b[0mstep\u001b[0m\u001b[0;34m)\u001b[0m\u001b[0;34m\u001b[0m\u001b[0;34m\u001b[0m\u001b[0m\n\u001b[0m\u001b[1;32m    320\u001b[0m                     \u001b[0mlogs\u001b[0m \u001b[0;34m=\u001b[0m \u001b[0mself\u001b[0m\u001b[0;34m.\u001b[0m\u001b[0mtrain_function\u001b[0m\u001b[0;34m(\u001b[0m\u001b[0miterator\u001b[0m\u001b[0;34m)\u001b[0m\u001b[0;34m\u001b[0m\u001b[0;34m\u001b[0m\u001b[0m\n\u001b[1;32m    321\u001b[0m                     \u001b[0mlogs\u001b[0m \u001b[0;34m=\u001b[0m \u001b[0mself\u001b[0m\u001b[0;34m.\u001b[0m\u001b[0m_pythonify_logs\u001b[0m\u001b[0;34m(\u001b[0m\u001b[0mlogs\u001b[0m\u001b[0;34m)\u001b[0m\u001b[0;34m\u001b[0m\u001b[0;34m\u001b[0m\u001b[0m\n",
            "\u001b[0;32m/usr/local/lib/python3.10/dist-packages/keras/src/callbacks/callback_list.py\u001b[0m in \u001b[0;36mon_train_batch_begin\u001b[0;34m(self, batch, logs)\u001b[0m\n\u001b[1;32m     96\u001b[0m             \u001b[0mcallback\u001b[0m\u001b[0;34m.\u001b[0m\u001b[0mon_epoch_end\u001b[0m\u001b[0;34m(\u001b[0m\u001b[0mepoch\u001b[0m\u001b[0;34m,\u001b[0m \u001b[0mlogs\u001b[0m\u001b[0;34m)\u001b[0m\u001b[0;34m\u001b[0m\u001b[0;34m\u001b[0m\u001b[0m\n\u001b[1;32m     97\u001b[0m \u001b[0;34m\u001b[0m\u001b[0m\n\u001b[0;32m---> 98\u001b[0;31m     \u001b[0;32mdef\u001b[0m \u001b[0mon_train_batch_begin\u001b[0m\u001b[0;34m(\u001b[0m\u001b[0mself\u001b[0m\u001b[0;34m,\u001b[0m \u001b[0mbatch\u001b[0m\u001b[0;34m,\u001b[0m \u001b[0mlogs\u001b[0m\u001b[0;34m=\u001b[0m\u001b[0;32mNone\u001b[0m\u001b[0;34m)\u001b[0m\u001b[0;34m:\u001b[0m\u001b[0;34m\u001b[0m\u001b[0;34m\u001b[0m\u001b[0m\n\u001b[0m\u001b[1;32m     99\u001b[0m         \u001b[0mlogs\u001b[0m \u001b[0;34m=\u001b[0m \u001b[0mlogs\u001b[0m \u001b[0;32mor\u001b[0m \u001b[0;34m{\u001b[0m\u001b[0;34m}\u001b[0m\u001b[0;34m\u001b[0m\u001b[0;34m\u001b[0m\u001b[0m\n\u001b[1;32m    100\u001b[0m         \u001b[0;32mfor\u001b[0m \u001b[0mcallback\u001b[0m \u001b[0;32min\u001b[0m \u001b[0mself\u001b[0m\u001b[0;34m.\u001b[0m\u001b[0mcallbacks\u001b[0m\u001b[0;34m:\u001b[0m\u001b[0;34m\u001b[0m\u001b[0;34m\u001b[0m\u001b[0m\n",
            "\u001b[0;31mKeyboardInterrupt\u001b[0m: "
          ]
        }
      ],
      "source": [
        "import tensorflow as tf\n",
        "from tensorflow.keras.optimizers import Adam\n",
        "import asyncio\n",
        "model = build_unet((128, 128, 3))\n",
        "optimizer = Adam(learning_rate = 0.01)\n",
        "model.compile(optimizer=optimizer,\n",
        "          loss=tf.losses.BinaryCrossentropy(),\n",
        "          metrics=['accuracy'])\n",
        "history = model.fit(x_train, y_train, validation_data=(x_test, y_test),epochs=100)"
      ]
    },
    {
      "cell_type": "code",
      "execution_count": null,
      "metadata": {
        "id": "ScKQ04utAA3N",
        "colab": {
          "base_uri": "https://localhost:8080/",
          "height": 321
        },
        "outputId": "2940ffe9-66a3-44ab-aef2-771426faf0f5"
      },
      "outputs": [
        {
          "output_type": "stream",
          "name": "stdout",
          "text": [
            "\u001b[1m1/1\u001b[0m \u001b[32m━━━━━━━━━━━━━━━━━━━━\u001b[0m\u001b[37m\u001b[0m \u001b[1m0s\u001b[0m 29ms/step\n"
          ]
        },
        {
          "output_type": "stream",
          "name": "stderr",
          "text": [
            "WARNING:matplotlib.image:Clipping input data to the valid range for imshow with RGB data ([0..1] for floats or [0..255] for integers).\n"
          ]
        },
        {
          "output_type": "display_data",
          "data": {
            "text/plain": [
              "<Figure size 640x480 with 2 Axes>"
            ],
            "image/png": "[encoded data removed]"
          },
          "metadata": {}
        }
      ],
      "source": [
        "import matplotlib.pyplot as plt\n",
        "\n",
        "img1 = np.array(x_train[0])\n",
        "res = model.predict(np.expand_dims(img1, axis = 0)) * 255 # predicted image , over 0.5 -> 255,\n",
        "img2 = np.array(y_train[0])\n",
        "\n",
        "fig = plt.figure()\n",
        "ax1 = fig.add_subplot(1, 2, 1)\n",
        "ax1.imshow(cv2.cvtColor(res[0], cv2.COLOR_GRAY2BGR))\n",
        "ax1.set_title(\"predicted image\")\n",
        "ax1.axis(\"off\")\n",
        "\n",
        "ax2 = fig.add_subplot(1,2,2)\n",
        "ax2.imshow(cv2.cvtColor(img2, cv2.COLOR_BGR2RGB))\n",
        "ax2.set_title(\"correct image\")\n",
        "ax2.axis(\"off\")\n",
        "\n",
        "plt.show()\n",
        "\n",
        "def iou(x,y):\n",
        "  x = x.flatten() #predict\n",
        "  y = y.flatten() #answer\n",
        "  tmp = [0 for _ in range (len(x))]\n",
        "  s = [0 for _ in range (len(x))]\n",
        "  for i in range(len(x)):\n",
        "    if x[i] >= 0.5:\n",
        "      x[i] = 255\n",
        "    else:\n",
        "      x[i] = 0\n",
        "    if y[i] >= 0.5:\n",
        "      y[i] = 255\n",
        "    else:\n",
        "      y[i] = 0\n",
        "    if x[i] == 255 and y[i] == 255:\n",
        "      tmp[i] = 255 # same\n",
        "    elif x[i] == 255 and y[i] != 255:\n",
        "      s[i] = 255\n",
        "    elif x[i] != 255 and y[i] != 255:\n",
        "      s[i] = 255\n",
        "    else:\n",
        "      s[i] = 255\n",
        "  k = np.sum(s)\n",
        "  d = np.sum(tmp)\n",
        "  result = d / (k + d)\n",
        "  return result\n",
        "\n",
        "x = iou(res, img2)"
      ]
    },
    {
      "cell_type": "code",
      "source": [
        "import requests\n",
        "import json\n",
        "from IPython.display import display, HTML\n",
        "from datetime import datetime\n",
        "import traceback\n",
        "\n",
        "class DiscordNotifier:\n",
        "    def __init__(self, webhook_url):\n",
        "        self.webhook_url = webhook_url\n",
        "\n",
        "    def send_message(self, content, title=None):\n",
        "        \"\"\"\n",
        "        메시지를 디스코드로 전송합니다.\n",
        "\n",
        "        Args:\n",
        "            content: 전송할 내용\n",
        "            title: 메시지 제목 (선택사항)\n",
        "        \"\"\"\n",
        "        try:\n",
        "            current_time = datetime.now().strftime(\"%Y-%m-%d %H:%M:%S\")\n",
        "\n",
        "            # 임베드 구성\n",
        "            embed = {\n",
        "                \"description\": str(content),\n",
        "                \"color\": 3447003,  # 파란색\n",
        "                \"footer\": {\n",
        "                    \"text\": f\"전송 시간: {current_time}\"\n",
        "                }\n",
        "            }\n",
        "\n",
        "            if title:\n",
        "                embed[\"title\"] = title\n",
        "\n",
        "            payload = {\n",
        "                \"embeds\": [embed]\n",
        "            }\n",
        "\n",
        "            # 웹훅으로 전송\n",
        "            response = requests.post(\n",
        "                self.webhook_url,\n",
        "                data=json.dumps(payload),\n",
        "                headers={\"Content-Type\": \"application/json\"}\n",
        "            )\n",
        "\n",
        "            if response.status_code == 204:\n",
        "                display(HTML(f'<div style=\"color: green\">✓ 메시지가 성공적으로 전송되었습니다.</div>'))\n",
        "            else:\n",
        "                display(HTML(f'<div style=\"color: red\">⚠ 전송 실패: {response.status_code}</div>'))\n",
        "\n",
        "        except Exception as e:\n",
        "            error_msg = traceback.format_exc()\n",
        "            display(HTML(f'<div style=\"color: red\">⚠ 오류 발생: {error_msg}</div>'))\n",
        "\n",
        "    def send_file(self, file_path, content=None):\n",
        "        \"\"\"\n",
        "        파일을 디스코드로 전송합니다.\n",
        "\n",
        "        Args:\n",
        "            file_path: 전송할 파일 경로\n",
        "            content: 추가 메시지 (선택사항)\n",
        "        \"\"\"\n",
        "        try:\n",
        "            payload = {}\n",
        "            if content:\n",
        "                payload[\"content\"] = content\n",
        "\n",
        "            files = {\n",
        "                \"file\": open(file_path, \"rb\")\n",
        "            }\n",
        "\n",
        "            response = requests.post(\n",
        "                self.webhook_url,\n",
        "                data=payload,\n",
        "                files=files\n",
        "            )\n",
        "\n",
        "            if response.status_code == 204:\n",
        "                display(HTML(f'<div style=\"color: green\">✓ 파일이 성공적으로 전송되었습니다.</div>'))\n",
        "            else:\n",
        "                display(HTML(f'<div style=\"color: red\">⚠ 파일 전송 실패: {response.status_code}</div>'))\n",
        "\n",
        "        except Exception as e:\n",
        "            error_msg = traceback.format_exc()\n",
        "            display(HTML(f'<div style=\"color: red\">⚠ 오류 발생: {error_msg}</div>'))"
      ],
      "metadata": {
        "id": "gAbdKLP_oVMA"
      },
      "execution_count": null,
      "outputs": []
    }
  ],
  "metadata": {
    "accelerator": "GPU",
    "colab": {
      "gpuType": "T4",
      "provenance": [],
      "authorship_tag": "ABX9TyOV7HzWIc1WIIOmO09HXVLO",
      "include_colab_link": true
    },
    "kernelspec": {
      "display_name": "Python 3",
      "name": "python3"
    },
    "language_info": {
      "name": "python"
    }
  },
  "nbformat": 4,
  "nbformat_minor": 0
}