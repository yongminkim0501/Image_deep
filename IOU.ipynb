{
  "cells": [
    {
      "cell_type": "markdown",
      "metadata": {
        "id": "view-in-github",
        "colab_type": "text"
      },
      "source": [
        "<a href=\"https://colab.research.google.com/github/yongminkim0501/Image_deep/blob/main/IOU.ipynb\" target=\"_parent\"><img src=\"https://colab.research.google.com/assets/colab-badge.svg\" alt=\"Open In Colab\"/></a>"
      ]
    },
    {
      "cell_type": "code",
      "execution_count": null,
      "metadata": {
        "colab": {
          "base_uri": "https://localhost:8080/"
        },
        "id": "XjftD-dElhzV",
        "outputId": "2d219d27-44a4-40a0-e12c-9c05145afc53"
      },
      "outputs": [
        {
          "output_type": "stream",
          "name": "stdout",
          "text": [
            "Mounted at /content/drive\n"
          ]
        }
      ],
      "source": [
        "from google.colab import drive\n",
        "drive.mount('/content/drive')"
      ]
    },
    {
      "cell_type": "code",
      "execution_count": null,
      "metadata": {
        "colab": {
          "base_uri": "https://localhost:8080/"
        },
        "id": "P0roR92ymEQv",
        "outputId": "860d03e8-b404-4984-efbb-d808a575d028"
      },
      "outputs": [
        {
          "output_type": "stream",
          "name": "stdout",
          "text": [
            "/content/drive/MyDrive/data_ai\n"
          ]
        }
      ],
      "source": [
        "cd /content/drive/MyDrive/data_ai/"
      ]
    },
    {
      "cell_type": "code",
      "execution_count": null,
      "metadata": {
        "id": "8wDC4ZA_mLAJ"
      },
      "outputs": [],
      "source": [
        "dataset_path = \"/content/drive/MyDrive/data_ai/\"\n",
        "json_path = dataset_path + \"019.data/1.Training/\"\n",
        "original_path = dataset_path + \"019.data_original/\""
      ]
    },
    {
      "cell_type": "code",
      "execution_count": null,
      "metadata": {
        "id": "acZD3d_DmMoj"
      },
      "outputs": [],
      "source": [
        "import json\n",
        "from google.colab.patches import cv2_imshow\n",
        "import numpy as np\n",
        "import pandas as pd\n",
        "import cv2\n",
        "import json\n",
        "\n",
        "json_load1 = []\n",
        "img1 = []\n",
        "\n",
        "import os\n",
        "dataset_path = \"/content/drive/MyDrive/data_ai/\"\n",
        "png_list = os.listdir(\"/content/drive/MyDrive/data_ai/019.data/1.Training/\")\n",
        "\n",
        "for i in range (len(png_list)):\n",
        "  png_list[i] = png_list[i].split(\".\")\n",
        "\n",
        "png_t = []\n",
        "for i in range (len(png_list)):\n",
        "  if len(png_list[i]) == 2 and png_list[i][1] == 'json':\n",
        "    png_t.append(png_list[i][0])\n",
        "\n",
        "for item in png_t:\n",
        "  img = np.zeros((1024, 1024, 3), np.uint8)\n",
        "\n",
        "  with open(json_path+f\"{item}.json\") as json_file:\n",
        "    json_load = json.load(json_file)\n",
        "    json.dumps(json_load, indent='\\t')\n",
        "  for number in range(len(json_load[\"features\"])):\n",
        "    vv = json_load[\"features\"][number][\"properties\"][\"building_imcoords\"]\n",
        "    a = vv.split(\", \")\n",
        "\n",
        "    pts = []\n",
        "    for i in range(0,int(len(a)/2)):\n",
        "      vvv = []\n",
        "      vvv.append(float(a[2*i]))\n",
        "      vvv.append(float(a[2*i+1]))\n",
        "      pts.append(vvv)\n",
        "\n",
        "    for i in range(0,int(len(a)/2)):\n",
        "      for j in range(2):\n",
        "        pts[i][j] = int(pts[i][j])\n",
        "    pts = np.array(pts)\n",
        "    img = cv2.fillPoly(img, [pts],(255,255,255))\n",
        "  cv2.imwrite(f'/content/drive/MyDrive/data_ai/019.data/1.Training/label_data/{item}.png', img)"
      ]
    },
    {
      "cell_type": "code",
      "execution_count": null,
      "metadata": {
        "id": "Q_oJ2Bo4mwM5"
      },
      "outputs": [],
      "source": [
        "import matplotlib.pyplot as plt\n",
        "import cv2\n",
        "label_image_black_white = []\n",
        "label_origin_image = []\n",
        "\n",
        "for name in png_t:\n",
        "  img = cv2.imread(f\"/content/drive/MyDrive/data_ai/019.data/1.Training/label_data/{name}.png\", cv2.IMREAD_GRAYSCALE)\n",
        "  img = cv2.resize(img, (256, 256))\n",
        "  label_image_black_white.append(img)\n",
        "\n",
        "  img = cv2.imread(f\"/content/drive/MyDrive/data_ai/019.data_original/{name}.png\")\n",
        "  img = cv2.resize(img, (256, 256))\n",
        "  label_origin_image.append(img)"
      ]
    },
    {
      "cell_type": "code",
      "execution_count": null,
      "metadata": {
        "id": "bXxv0HcEm0TZ"
      },
      "outputs": [],
      "source": [
        "x_test = []\n",
        "x_train = []\n",
        "\n",
        "y_test = []\n",
        "y_train = []\n",
        "import os\n",
        "dataset_path = \"/content/drive/MyDrive/data_ai/\"\n",
        "png_list = os.listdir(\"/content/drive/MyDrive/data_ai/019.data/1.Training/\")\n",
        "for i in range (len(png_list)):\n",
        "  png_list[i] = png_list[i].split(\".\")\n",
        "png_t = []\n",
        "for i in range (len(png_list)):\n",
        "  if len(png_list[i]) == 2 and png_list[i][1] == 'json':\n",
        "    png_t.append(png_list[i][0])\n",
        "\n",
        "for i in range(0, len(png_t)-30):\n",
        "  x_train.append(label_origin_image[i])\n",
        "  y_train.append(label_image_black_white[i])\n",
        "\n",
        "for i in range(len(png_t)-30, len(png_t)):\n",
        "  x_test.append(label_origin_image[i])\n",
        "  y_test.append(label_image_black_white[i])"
      ]
    },
    {
      "cell_type": "code",
      "execution_count": null,
      "metadata": {
        "id": "GJEmHEhem1SM"
      },
      "outputs": [],
      "source": [
        "from tensorflow.keras.layers import Conv2D, BatchNormalization, Activation, MaxPool2D, Conv2DTranspose, Concatenate, Input, Dropout, Add, Multiply\n",
        "from tensorflow.keras.models import Model\n",
        "from tensorflow.keras.regularizers import L2\n",
        "def attention_gate(input_signal, gating_signal, num_filters):\n",
        "    # gating_signal을 input_signal과 같은 크기로 조정\n",
        "    gating_signal = Conv2DTranspose(num_filters, (2, 2), strides=2, padding='same')(gating_signal)\n",
        "\n",
        "    # 1x1 convolution\n",
        "    input_signal = Conv2D(num_filters, 1, padding='same')(input_signal)\n",
        "    gating_signal = Conv2D(num_filters, 1, padding='same')(gating_signal)\n",
        "\n",
        "    # 신호 결합\n",
        "    added = Add()([input_signal, gating_signal])\n",
        "\n",
        "    # 활성화\n",
        "    activated = Activation('relu')(added)\n",
        "\n",
        "    # attention 계수 계산\n",
        "    attention = Conv2D(1, 1, padding='same')(activated)\n",
        "    attention = Activation('sigmoid')(attention)\n",
        "\n",
        "    # attention 적용\n",
        "    return Multiply()([input_signal, attention])\n",
        "\n",
        "def conv_block(input, num_filters):\n",
        "    x = Conv2D(num_filters, 3, padding=\"same\", kernel_regularizer=L2(0.01))(input)\n",
        "    x = BatchNormalization()(x)\n",
        "    x = Activation(\"relu\")(x)\n",
        "    x = Dropout(0.3)(x)\n",
        "\n",
        "    x = Conv2D(num_filters, 3, padding=\"same\", kernel_regularizer=L2(0.01))(input)\n",
        "    x = BatchNormalization()(x)\n",
        "    x = Activation(\"relu\")(x)\n",
        "    x = Dropout(0.3)(x)\n",
        "\n",
        "    return x\n",
        "\n",
        "def encoder_block(input, num_filters):\n",
        "    x = conv_block(input, num_filters)\n",
        "    p = MaxPool2D((2, 2))(x)\n",
        "    return x, p\n",
        "\n",
        "def decoder_block(input, skip_features, num_filters):\n",
        "    x = Conv2DTranspose(num_filters, (2, 2), strides=2, padding=\"same\")(input)\n",
        "    attended_skip = attention_gate(skip_features, input, num_filters)\n",
        "    #x = Concatenate()([x, skip_features])\n",
        "    x = Concatenate()([x, attended_skip])\n",
        "    x = conv_block(x, num_filters)\n",
        "    return x\n",
        "\n",
        "def build_unet(input_shape):\n",
        "    size = 8     # ORiginal: 16\n",
        "    inputs = Input(input_shape)\n",
        "\n",
        "    s1, p1 = encoder_block(inputs, size * 4)\n",
        "    s2, p2 = encoder_block(p1, size * 8)\n",
        "    s3, p3 = encoder_block(p2, size * 16)\n",
        "    s4, p4 = encoder_block(p3, size * 32)\n",
        "\n",
        "    b1 = conv_block(p4, size * 64)    # Original is 1024\n",
        "\n",
        "    d1 = decoder_block(b1, s4, size * 32)\n",
        "    d2 = decoder_block(d1, s3, size * 16)\n",
        "    d3 = decoder_block(d2, s2, size * 8)\n",
        "    d4 = decoder_block(d3, s1, size * 4)\n",
        "\n",
        "    outputs = Conv2D(1, 1, padding=\"same\", activation=\"sigmoid\")(d4)\n",
        "\n",
        "    model = Model(inputs, outputs, name=\"U-Net\")\n",
        "    return model"
      ]
    },
    {
      "cell_type": "code",
      "source": [
        "'''\n",
        "tf.keras.layers.Conv2D(\n",
        "    filters, : 출력 채널의 수, filters = 32 이면, 32개의 특성 맵 생성\n",
        "    kernel_size, : 컨볼루션 윈도의 크기, kernel size=3 : 3x3 필터\n",
        "    strides=(1, 1), : 필터가 이동하는 간격\n",
        "    padding='valid', : valid - 패딩 없음, same : 출력 크기와 입력 크기 동일하도록 패딩\n",
        "    data_format=None, :\n",
        "    dilation_rate=(1, 1), : 팽창된 컨볼루션을 위한 팽창률, (1,1) - 일반 컨볼루션, (2,2) - 필터 원소 사이에 공간 추가\n",
        "    groups=1, : 입력과 출력 채널을 그룹으로 나누는 수, 1은 일반적인 컨볼루션, groups > 1 은 채널 그룹 분리\n",
        "    activation=None, : 활성화 함수, relu, sigmoid 등, none : 선형 활성화\n",
        "    use_bias=True, : 편향 벡터의 사용 여부\n",
        "    kernel_initializer='glorot_uniform', : 커널 가중치 초기화 방법\n",
        "    bias_initializer='zeros', : 편향 가중치 초기화 방법, zeros, ones\n",
        "    kernel_regularizer=None, : 커널 가중치에 대한 정규화 함수, l1, l2\n",
        "    bias_regularizer=None, : 편향에 대한 정규화 함수\n",
        "    activity_regularizer=None, : 출력에 대한 정규화 함수\n",
        "    kernel_constraint=None, : 커널 가중치에 대한 제약, max_norm 등\n",
        "    bias_constraint=None, : 편향에 대한 제약\n",
        "    **kwargs\n",
        ")\n",
        "'''\n",
        "'''\n",
        "tf.keras.layers.BatchNormalization(\n",
        "    axis=-1, : 정규화할 축을 지정, -1은 마지막 축 (채널)을 의미. channels_last 포맷에서는 -1이 적절\n",
        "    momentum=0.99, : 이동 평균을 계산할 때 사용되는 모멘텀. 0~1사이 값, 큰 값: 이전 통계를 더 많이 반영,\n",
        "                      작은 값 : 새로운 배치 통계를 더 많이 반영\n",
        "    epsilon=0.001, : 분모가 0이 되는 것을 방지하기 위한 작은 상수, 수치적 안정성을 위해 사용\n",
        "    center=True,: beta 오프셋 사용 여부, True면 평균을 이동 시킴, false 면 스케일이 1로 고정\n",
        "    scale=True, : gamma 스케일링 사용 여부, True면 스케일 조정 가능, false 면 스케일이 1로 고정\n",
        "    beta_initializer='zeros', : beta 벡터의 초기화 방법\n",
        "    gamma_initializer='ones', : gamma 벡터의 초기화 방법\n",
        "    moving_mean_initializer='zeros', : 이동 평균의 초기화 방법\n",
        "    moving_variance_initializer='ones', : 이동 분산의 초기화 방법\n",
        "    beta_regularizer=None, : beta 파라미터에 대한 정규화 함수\n",
        "    gamma_regularizer=None, : gamma 파라미터에 대한 정규화 함수\n",
        "    beta_constraint=None, : beta 파라미터에 대한 제약\n",
        "    gamma_constraint=None, : gamma 파라미터에 대한 제약\n",
        "    synchronized=False, : 분산 학습에 배치 정규화를 동기화 할 지 여부 / 여러 gpu 사용시 관\n",
        "    **kwargs\n",
        ")\n",
        "intersection over union\n",
        "\n",
        "'''"
      ],
      "metadata": {
        "id": "zfc9ZHGi3Wkw"
      },
      "execution_count": null,
      "outputs": []
    },
    {
      "cell_type": "code",
      "execution_count": null,
      "metadata": {
        "id": "1aIeO4ZMm2Ip"
      },
      "outputs": [],
      "source": [
        "import tensorflow as tf\n",
        "from tensorflow.keras.optimizers import Adam\n",
        "x_train = np.array(x_train)\n",
        "y_train = np.array(y_train)\n",
        "x_train = x_train.astype(np.float32)\n",
        "x_train /= 255.0\n",
        "y_train = y_train.astype(np.float32)\n",
        "y_train /= 255.0\n",
        "x_test = np.array(x_test)\n",
        "y_test = np.array(y_test)\n",
        "x_test = x_test.astype(np.float32)\n",
        "x_test /= 255.0\n",
        "y_test = y_test.astype(np.float32)\n",
        "y_test /= 255.0"
      ]
    },
    {
      "cell_type": "code",
      "source": [
        "import tensorflow as tf\n",
        "from tensorflow.keras.optimizers import Adam\n",
        "import asyncio\n",
        "\n",
        "model = build_unet((256, 256, 3))\n",
        "optimizer = Adam(learning_rate = 0.1)\n",
        "model.compile(optimizer=optimizer,\n",
        "          loss=tf.losses.BinaryCrossentropy(),\n",
        "          metrics=['accuracy'])\n",
        "history = model.fit(x_train, y_train, validation_data=(x_test, y_test), epochs=10)"
      ],
      "metadata": {
        "colab": {
          "base_uri": "https://localhost:8080/"
        },
        "id": "JDQDaqovpd-5",
        "outputId": "bba19fc8-f92e-4906-ebe4-b26bf0d06ef0"
      },
      "execution_count": null,
      "outputs": [
        {
          "output_type": "stream",
          "name": "stdout",
          "text": [
            "Epoch 1/10\n",
            "\u001b[1m3/3\u001b[0m \u001b[32m━━━━━━━━━━━━━━━━━━━━\u001b[0m\u001b[37m\u001b[0m \u001b[1m103s\u001b[0m 21s/step - accuracy: 0.6466 - loss: 84.9862 - val_accuracy: 0.4917 - val_loss: 55.9673\n",
            "Epoch 2/10\n",
            "\u001b[1m3/3\u001b[0m \u001b[32m━━━━━━━━━━━━━━━━━━━━\u001b[0m\u001b[37m\u001b[0m \u001b[1m50s\u001b[0m 341ms/step - accuracy: 0.7454 - loss: 73.0112 - val_accuracy: 0.8016 - val_loss: 18.0440\n",
            "Epoch 3/10\n",
            "\u001b[1m3/3\u001b[0m \u001b[32m━━━━━━━━━━━━━━━━━━━━\u001b[0m\u001b[37m\u001b[0m \u001b[1m1s\u001b[0m 350ms/step - accuracy: 0.7463 - loss: 15.0990 - val_accuracy: 0.8017 - val_loss: 61.1535\n",
            "Epoch 4/10\n",
            "\u001b[1m3/3\u001b[0m \u001b[32m━━━━━━━━━━━━━━━━━━━━\u001b[0m\u001b[37m\u001b[0m \u001b[1m1s\u001b[0m 429ms/step - accuracy: 0.7500 - loss: 49.0642 - val_accuracy: 0.8017 - val_loss: 10.4915\n",
            "Epoch 5/10\n",
            "\u001b[1m3/3\u001b[0m \u001b[32m━━━━━━━━━━━━━━━━━━━━\u001b[0m\u001b[37m\u001b[0m \u001b[1m1s\u001b[0m 352ms/step - accuracy: 0.7375 - loss: 14.1084 - val_accuracy: 0.8017 - val_loss: 27.1798\n",
            "Epoch 6/10\n",
            "\u001b[1m3/3\u001b[0m \u001b[32m━━━━━━━━━━━━━━━━━━━━\u001b[0m\u001b[37m\u001b[0m \u001b[1m1s\u001b[0m 341ms/step - accuracy: 0.7494 - loss: 19.2562 - val_accuracy: 0.8017 - val_loss: 13.2568\n",
            "Epoch 7/10\n",
            "\u001b[1m3/3\u001b[0m \u001b[32m━━━━━━━━━━━━━━━━━━━━\u001b[0m\u001b[37m\u001b[0m \u001b[1m1s\u001b[0m 344ms/step - accuracy: 0.7532 - loss: 12.9873 - val_accuracy: 0.8017 - val_loss: 13.1465\n",
            "Epoch 8/10\n",
            "\u001b[1m3/3\u001b[0m \u001b[32m━━━━━━━━━━━━━━━━━━━━\u001b[0m\u001b[37m\u001b[0m \u001b[1m1s\u001b[0m 347ms/step - accuracy: 0.7522 - loss: 8.9191 - val_accuracy: 0.8017 - val_loss: 11.4293\n",
            "Epoch 9/10\n",
            "\u001b[1m3/3\u001b[0m \u001b[32m━━━━━━━━━━━━━━━━━━━━\u001b[0m\u001b[37m\u001b[0m \u001b[1m1s\u001b[0m 339ms/step - accuracy: 0.7531 - loss: 9.2012 - val_accuracy: 0.7871 - val_loss: 5.5487\n",
            "Epoch 10/10\n",
            "\u001b[1m3/3\u001b[0m \u001b[32m━━━━━━━━━━━━━━━━━━━━\u001b[0m\u001b[37m\u001b[0m \u001b[1m1s\u001b[0m 346ms/step - accuracy: 0.7576 - loss: 5.1513 - val_accuracy: 0.8017 - val_loss: 8.0547\n"
          ]
        }
      ]
    },
    {
      "cell_type": "code",
      "source": [
        "import matplotlib.pyplot as plt\n",
        "\n",
        "img1 = np.array(x_test[5])\n",
        "\n",
        "res = model.predict(np.expand_dims(img1, axis = 0)) * 255 # predicted image , over 0.5 -> 255,\n",
        "print(res.shape)\n",
        "img2 = np.array(y_test[5])\n",
        "\n",
        "fig = plt.figure()\n",
        "ax1 = fig.add_subplot(1, 2, 1)\n",
        "ax1.imshow(cv2.cvtColor(res[0], cv2.COLOR_GRAY2BGR))\n",
        "ax1.set_title(\"predicted image\")\n",
        "ax1.axis(\"off\")\n",
        "\n",
        "ax2 = fig.add_subplot(1,2,2)\n",
        "ax2.imshow(cv2.cvtColor(y_test[5], cv2.COLOR_BGR2RGB))\n",
        "ax2.set_title(\"correct image\")\n",
        "ax2.axis(\"off\")\n",
        "\n",
        "plt.show()\n",
        "\n",
        "def iou(x,y):\n",
        "  x = x.flatten() #predict\n",
        "  print(x, len(x))\n",
        "  y = y.flatten() #answer\n",
        "  print(y, len(y))\n",
        "  tmp = [0 for _ in range (len(x))]\n",
        "  s = [0 for _ in range (len(x))]\n",
        "  for i in range(len(x)):\n",
        "    if x[i] >= 0.5:\n",
        "      x[i] = 255\n",
        "    else:\n",
        "      x[i] = 0\n",
        "    if y[i] >= 0.5:\n",
        "      y[i] = 255\n",
        "    else:\n",
        "      y[i] = 0\n",
        "    if x[i] == 255 and y[i] == 255:\n",
        "      tmp[i] = 255 # same\n",
        "    elif x[i] == 255 and y[i] != 255:\n",
        "      s[i] = 255\n",
        "    elif x[i] != 255 and y[i] != 255:\n",
        "      s[i] = 255\n",
        "    else:\n",
        "      s[i] = 255\n",
        "  k = np.sum(s)\n",
        "  d = np.sum(tmp)\n",
        "  result = d / (k + d)\n",
        "  print(k, d, result)\n",
        "  return result\n",
        "\n",
        "x = iou(res, img2)\n",
        "print(x)"
      ],
      "metadata": {
        "colab": {
          "base_uri": "https://localhost:8080/",
          "height": 451
        },
        "id": "ScKQ04utAA3N",
        "outputId": "80f5f469-103a-493a-c5e1-8de6351b0c1b"
      },
      "execution_count": null,
      "outputs": [
        {
          "output_type": "stream",
          "name": "stdout",
          "text": [
            "\u001b[1m1/1\u001b[0m \u001b[32m━━━━━━━━━━━━━━━━━━━━\u001b[0m\u001b[37m\u001b[0m \u001b[1m0s\u001b[0m 28ms/step\n"
          ]
        },
        {
          "output_type": "stream",
          "name": "stderr",
          "text": [
            "WARNING:matplotlib.image:Clipping input data to the valid range for imshow with RGB data ([0..1] for floats or [0..255] for integers).\n"
          ]
        },
        {
          "output_type": "stream",
          "name": "stdout",
          "text": [
            "(1, 256, 256, 1)\n"
          ]
        },
        {
          "output_type": "display_data",
          "data": {
            "text/plain": [
              "<Figure size 640x480 with 2 Axes>"
            ],
            "image/png": "[encoded data removed]"
          },
          "metadata": {}
        },
        {
          "output_type": "stream",
          "name": "stdout",
          "text": [
            "[5.9190449e+01 6.2991495e+00 7.6022654e+00 ... 5.5420300e-04 5.6475230e-02\n",
            " 2.9692891e+00] 65536\n",
            "[0. 0. 0. ... 1. 1. 1.] 65536\n",
            "16710915 765 4.57763671875e-05\n",
            "4.57763671875e-05\n"
          ]
        }
      ]
    }
  ],
  "metadata": {
    "accelerator": "GPU",
    "colab": {
      "gpuType": "T4",
      "provenance": [],
      "authorship_tag": "ABX9TyMAEknoSUx7c/H9GnN5JPNQ",
      "include_colab_link": true
    },
    "kernelspec": {
      "display_name": "Python 3",
      "name": "python3"
    },
    "language_info": {
      "name": "python"
    }
  },
  "nbformat": 4,
  "nbformat_minor": 0
}